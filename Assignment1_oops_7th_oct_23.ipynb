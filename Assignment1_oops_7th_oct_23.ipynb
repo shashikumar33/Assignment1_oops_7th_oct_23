{
 "cells": [
  {
   "cell_type": "code",
   "execution_count": 1,
   "id": "4fb7b122-9411-4f32-906f-1e9bfce32a8c",
   "metadata": {},
   "outputs": [
    {
     "data": {
      "text/plain": [
       "'Problem 1: Bank Account Create a class representing a bank account with attributes like account number, account holder name, and balance. \\nImplement methods to deposit and withdraw money from the account.'"
      ]
     },
     "execution_count": 1,
     "metadata": {},
     "output_type": "execute_result"
    }
   ],
   "source": [
    "\"\"\"Problem 1: Bank Account Create a class representing a bank account with attributes like account number, account holder name, and balance. \n",
    "Implement methods to deposit and withdraw money from the account.\"\"\""
   ]
  },
  {
   "cell_type": "code",
   "execution_count": 5,
   "id": "5e74417f-2807-4b00-bb28-8de6c8de754e",
   "metadata": {},
   "outputs": [
    {
     "name": "stdout",
     "output_type": "stream",
     "text": [
      "Account number 123\n",
      "Account holder name shashi\n",
      "Account balance 0\n",
      "Deposite 1000 to a account number 123\n",
      "Account number 123\n",
      "Account holder name shashi\n",
      "Account balance 1000\n",
      "500 withdraw from a account number 123\n",
      "Account number 123\n",
      "Account holder name shashi\n",
      "Account balance 500\n"
     ]
    }
   ],
   "source": [
    "class bank_account:\n",
    "    def __init__(self,account_number,account_holder_name,balance=0):\n",
    "        self.account_number=account_number\n",
    "        self.account_holder_name=account_holder_name\n",
    "        self.balance=balance\n",
    "    def deposit(self,amount):\n",
    "        if amount>0:\n",
    "            self.balance+=amount\n",
    "            print(f\"Deposite {amount} to a account number {self.account_number}\")\n",
    "        else:\n",
    "            print(\"please enter a valid amount\")\n",
    "    def withdraw(self,amount):\n",
    "        if 0<amount<=self.balance:\n",
    "            self.balance -= amount\n",
    "            print(f\"{amount} withdraw from a account number {self.account_number}\")\n",
    "        else:\n",
    "            print(\"please enter a valid amount\")\n",
    "    def display_balance(self):\n",
    "        print(f\"Account number {self.account_number}\")\n",
    "        print(f\"Account holder name {self.account_holder_name}\")\n",
    "        print(f\"Account balance {self.balance}\")\n",
    "\n",
    "if __name__ == \"__main__\":\n",
    "    account1=bank_account(\"123\", \"shashi\")\n",
    "    account1.display_balance()\n",
    "    account1.deposit(1000)\n",
    "    account1.display_balance()\n",
    "    account1.withdraw(500)\n",
    "    account1.display_balance()"
   ]
  },
  {
   "cell_type": "code",
   "execution_count": 6,
   "id": "425953e6-108c-482a-8dab-df83900a387c",
   "metadata": {},
   "outputs": [
    {
     "data": {
      "text/plain": [
       "'Problem 2: Employee Management Create a class representing an employee with attributes like employee ID, name, and salary.\\nImplement methods to calculate the yearly bonus and display employee details.'"
      ]
     },
     "execution_count": 6,
     "metadata": {},
     "output_type": "execute_result"
    }
   ],
   "source": [
    "\"\"\"Problem 2: Employee Management Create a class representing an employee with attributes like employee ID, name, and salary.\n",
    "Implement methods to calculate the yearly bonus and display employee details.\"\"\""
   ]
  },
  {
   "cell_type": "code",
   "execution_count": 9,
   "id": "a4653fcd-2aba-4fa2-afb9-3c9eb31b1398",
   "metadata": {},
   "outputs": [
    {
     "name": "stdout",
     "output_type": "stream",
     "text": [
      "ID:-E001\n",
      "Name:- jhon\n",
      "Salary:-500000\n",
      "yearly bonus 50000.0\n"
     ]
    }
   ],
   "source": [
    "class employee:\n",
    "    def __init__(self,id,name,salary):\n",
    "        self.id=id\n",
    "        self.name=name\n",
    "        self.salary=salary\n",
    "    def calculate_bonus_amount(self,bonus_percentage):\n",
    "        bonus_amount=(bonus_percentage/100)*self.salary\n",
    "        return bonus_amount\n",
    "    def display_detail(self):\n",
    "        print(f\"ID:-{self.id}\")\n",
    "        print(f\"Name:- {self.name}\")\n",
    "        print(f\"Salary:-{self.salary}\")\n",
    "\n",
    "if __name__==\"__main__\":\n",
    "    employee1=employee(\"E001\",\"jhon\",500000)\n",
    "    employee1.display_detail()\n",
    "    yearly_bonus=employee1.calculate_bonus_amount(10)\n",
    "    print(f\"yearly bonus {yearly_bonus}\")"
   ]
  },
  {
   "cell_type": "code",
   "execution_count": 10,
   "id": "85e1f1a0-7046-4451-959b-a01248b9d18c",
   "metadata": {},
   "outputs": [
    {
     "data": {
      "text/plain": [
       "'Problem 3: Vehicle Rental Create a class representing a vehicle rental system. \\nImplement methods to rent a vehicle, return a vehicle, and display available vehicles.'"
      ]
     },
     "execution_count": 10,
     "metadata": {},
     "output_type": "execute_result"
    }
   ],
   "source": [
    "\"\"\"Problem 3: Vehicle Rental Create a class representing a vehicle rental system. \n",
    "Implement methods to rent a vehicle, return a vehicle, and display available vehicles.\"\"\""
   ]
  },
  {
   "cell_type": "code",
   "execution_count": 14,
   "id": "a49e14cd-8188-4ee1-9305-d6a2cbe0e8ba",
   "metadata": {},
   "outputs": [
    {
     "name": "stdout",
     "output_type": "stream",
     "text": [
      "Available vehicles\n",
      "vehicle ID: V001, Available Count: 3\n",
      "vehicle ID: V002, Available Count: 2\n",
      "vehicle ID: V003, Available Count: 5\n",
      "vehicle Car with ID V001 rented sucessfully\n",
      "Available vehicles\n",
      "vehicle ID: V001, Available Count: 2\n",
      "vehicle ID: V002, Available Count: 2\n",
      "vehicle ID: V003, Available Count: 5\n",
      "vehicle Car with ID V001 returned successfully\n",
      "Available vehicles\n",
      "vehicle ID: V001, Available Count: 3\n",
      "vehicle ID: V002, Available Count: 2\n",
      "vehicle ID: V003, Available Count: 5\n"
     ]
    }
   ],
   "source": [
    "class vehicle_rental:\n",
    "    def __init__(self):\n",
    "        self.available_vehicles={}\n",
    "    def rent_vehicle(self, vehicle_id, vehicle_name):\n",
    "        if vehicle_id in self.available_vehicles and self.available_vehicles[vehicle_id] > 0:\n",
    "            self.available_vehicles[vehicle_id] -= 1\n",
    "            print(f\"vehicle {vehicle_name} with ID {vehicle_id} rented sucessfully\")\n",
    "        else:\n",
    "            print(\"sorry, the requested vehicle is not available for rent\")\n",
    "    def return_vehicle(self,vehicle_id, vehicle_name):\n",
    "        if vehicle_id in self.available_vehicles:\n",
    "            self.available_vehicles[vehicle_id]+=1\n",
    "            print(f\"vehicle {vehicle_name} with ID {vehicle_id} returned successfully\")\n",
    "        else:\n",
    "            print(\"Invalid vehicle ID\")\n",
    "    def display_available_vehicles(self):\n",
    "        print(\"Available vehicles\")\n",
    "        for vehicle_id, count in self.available_vehicles.items():\n",
    "            print(f\"vehicle ID: {vehicle_id}, Available Count: {count}\")\n",
    "\n",
    "if __name__ ==\"__main__\":\n",
    "    rental_system=vehicle_rental()\n",
    "    rental_system.available_vehicles={\"V001\":3, \"V002\":2, \"V003\":5}\n",
    "    rental_system.display_available_vehicles()\n",
    "    rental_system.rent_vehicle(\"V001\", \"Car\")\n",
    "    rental_system.display_available_vehicles()\n",
    "    rental_system.return_vehicle(\"V001\", \"Car\")\n",
    "    rental_system.display_available_vehicles()"
   ]
  },
  {
   "cell_type": "code",
   "execution_count": 1,
   "id": "095ed8a6-0ec0-4005-b108-4cd82d0335a1",
   "metadata": {},
   "outputs": [
    {
     "data": {
      "text/plain": [
       "'Problem 4: Library Catalog Create classes representing a library and a book. \\nImplement methods to add books to the library, borrow books, and display available books.'"
      ]
     },
     "execution_count": 1,
     "metadata": {},
     "output_type": "execute_result"
    }
   ],
   "source": [
    "\"\"\"Problem 4: Library Catalog Create classes representing a library and a book. \n",
    "Implement methods to add books to the library, borrow books, and display available books.\"\"\""
   ]
  },
  {
   "cell_type": "code",
   "execution_count": 6,
   "id": "ae2045f3-5f62-49a5-af8d-64446875d3a3",
   "metadata": {},
   "outputs": [
    {
     "name": "stdout",
     "output_type": "stream",
     "text": [
      "Displaying available books:\n",
      "Available Books:\n",
      "Harry Potter and the Sorcerer's Stone by J.K. Rowling\n",
      "To Kill a Mockingbird by Harper Lee\n",
      "1984 by George Orwell\n",
      "\n",
      "Borrowing a book:\n",
      "You have borrowed 'To Kill a Mockingbird'.\n",
      "Book not available.\n",
      "\n",
      "Returning a book:\n",
      "You have returned 'To Kill a Mockingbird'.\n",
      "\n",
      "Displaying available books after returning:\n",
      "Available Books:\n",
      "Harry Potter and the Sorcerer's Stone by J.K. Rowling\n",
      "To Kill a Mockingbird by Harper Lee\n",
      "1984 by George Orwell\n"
     ]
    }
   ],
   "source": [
    "class Book:\n",
    "    def __init__(self, title, author):\n",
    "        self.title = title\n",
    "        self.author = author\n",
    "        self.available = True\n",
    "\n",
    "    def __str__(self):\n",
    "        return f\"{self.title} by {self.author}\"\n",
    "\n",
    "    def borrow(self):\n",
    "        if self.available:\n",
    "            self.available = False\n",
    "            return True\n",
    "        else:\n",
    "            return False\n",
    "\n",
    "    def return_book(self):\n",
    "        self.available = True\n",
    "\n",
    "\n",
    "class Library:\n",
    "    def __init__(self):\n",
    "        self.books = []\n",
    "\n",
    "    def add_book(self, book):\n",
    "        self.books.append(book)\n",
    "\n",
    "    def borrow_book(self, title):\n",
    "        for book in self.books:\n",
    "            if book.title == title and book.available:\n",
    "                book.borrow()\n",
    "                return f\"You have borrowed '{title}'.\"\n",
    "        return \"Book not available.\"\n",
    "\n",
    "    def return_book(self, title):\n",
    "        for book in self.books:\n",
    "            if book.title == title:\n",
    "                book.return_book()\n",
    "                return f\"You have returned '{title}'.\"\n",
    "        return \"Book not found in the library.\"\n",
    "\n",
    "    def display_available_books(self):\n",
    "        available_books = [book for book in self.books if book.available]\n",
    "        if available_books:\n",
    "            print(\"Available Books:\")\n",
    "            for book in available_books:\n",
    "                print(book)\n",
    "        else:\n",
    "            print(\"No books available.\")\n",
    "\n",
    "# Example usage:\n",
    "if __name__ == \"__main__\":\n",
    "    book1 = Book(\"Harry Potter and the Sorcerer's Stone\", \"J.K. Rowling\")\n",
    "    book2 = Book(\"To Kill a Mockingbird\", \"Harper Lee\")\n",
    "    book3 = Book(\"1984\", \"George Orwell\")\n",
    "\n",
    "    library = Library()\n",
    "    library.add_book(book1)\n",
    "    library.add_book(book2)\n",
    "    library.add_book(book3)\n",
    "\n",
    "    print(\"Displaying available books:\")\n",
    "    library.display_available_books()\n",
    "\n",
    "    print(\"\\nBorrowing a book:\")\n",
    "    print(library.borrow_book(\"To Kill a Mockingbird\"))\n",
    "    print(library.borrow_book(\"To Kill a Mockingbird\"))  # Trying to borrow same book again\n",
    "\n",
    "    print(\"\\nReturning a book:\")\n",
    "    print(library.return_book(\"To Kill a Mockingbird\"))\n",
    "\n",
    "    print(\"\\nDisplaying available books after returning:\")\n",
    "    library.display_available_books()\n"
   ]
  },
  {
   "cell_type": "code",
   "execution_count": 7,
   "id": "a5f52ead-b2fa-4d60-8d33-4aa57196acc1",
   "metadata": {},
   "outputs": [
    {
     "data": {
      "text/plain": [
       "'Problem 5: Product Inventory Create classes representing a product and an inventory system. \\nImplement methods to add products to the inventory, update product quantity, and display available products.'"
      ]
     },
     "execution_count": 7,
     "metadata": {},
     "output_type": "execute_result"
    }
   ],
   "source": [
    "\"\"\"Problem 5: Product Inventory Create classes representing a product and an inventory system. \n",
    "Implement methods to add products to the inventory, update product quantity, and display available products.\"\"\""
   ]
  },
  {
   "cell_type": "code",
   "execution_count": 30,
   "id": "329520e5-50f4-46b9-9be0-3be90b367bd4",
   "metadata": {},
   "outputs": [
    {
     "name": "stdout",
     "output_type": "stream",
     "text": [
      "Display available products:\n",
      "Available Products\n",
      "Laptop Price $1200 Quntity 10\n",
      "Smartphone Price $800 Quntity 20\n",
      "Headphones Price $100 Quntity 50\n",
      "\n",
      "Updating quantity of a product\n",
      "Quantity of Laptop update to 8\n",
      "\n",
      "Displaying available products after updating quantity\n",
      "Available Products\n",
      "Laptop Price $1200 Quntity 8\n",
      "Smartphone Price $800 Quntity 20\n",
      "Headphones Price $100 Quntity 50\n"
     ]
    }
   ],
   "source": [
    "class Product:\n",
    "    def __init__(self,name,price,quantity):\n",
    "        self.name=name\n",
    "        self.price=price\n",
    "        self.quantity=quantity\n",
    "    def __str__(self):\n",
    "        return f\"{self.name} Price ${self.price} Quntity {self.quantity}\"\n",
    "    def update_quantity(self,new_quantity):\n",
    "        self.quantity=new_quantity\n",
    "\n",
    "class Inventory:\n",
    "    def __init__(self):\n",
    "        self.products=[]\n",
    "    def add_product(self, product):\n",
    "        self.products.append(product)\n",
    "    def update_product_quantity(self, product_name, new_quantity):\n",
    "        for product in self.products:\n",
    "            if product.name==product_name:\n",
    "                product.update_quantity(new_quantity)\n",
    "                return f\"Quantity of {product_name} update to {new_quantity}\"\n",
    "        return f\"Product {product_name} not found in inventory\"\n",
    "    def display_available_products(self):\n",
    "        if self.products:\n",
    "            print(\"Available Products\")\n",
    "            for product in self.products:\n",
    "                print(product)\n",
    "        else:\n",
    "            print(\"no products available in inventory\")\n",
    "\n",
    "if __name__ == \"__main__\":\n",
    "    inventory = Inventory()\n",
    "\n",
    "    product1 = Product(\"Laptop\", 1200, 10)\n",
    "    product2 = Product(\"Smartphone\", 800, 20)\n",
    "    product3 = Product(\"Headphones\", 100, 50)\n",
    "\n",
    "    inventory.add_product(product1)\n",
    "    inventory.add_product(product2)\n",
    "    inventory.add_product(product3)\n",
    "\n",
    "    print(\"Display available products:\")\n",
    "    inventory.display_available_products()\n",
    "\n",
    "    print(\"\\nUpdating quantity of a product\")\n",
    "    print(inventory.update_product_quantity(\"Laptop\", 8))\n",
    "\n",
    "    print(\"\\nDisplaying available products after updating quantity\")\n",
    "    inventory.display_available_products()"
   ]
  },
  {
   "cell_type": "code",
   "execution_count": 31,
   "id": "01a857c0-fb63-4cde-af1e-5b0032dad585",
   "metadata": {},
   "outputs": [
    {
     "data": {
      "text/plain": [
       "'Problem 6: Shape Calculation Create a class representing a shape with attributes like length, width, and height. \\nImplement methods to calculate the area and perimeter of the shape '"
      ]
     },
     "execution_count": 31,
     "metadata": {},
     "output_type": "execute_result"
    }
   ],
   "source": [
    "\"\"\"Problem 6: Shape Calculation Create a class representing a shape with attributes like length, width, and height. \n",
    "Implement methods to calculate the area and perimeter of the shape \"\"\""
   ]
  },
  {
   "cell_type": "code",
   "execution_count": 27,
   "id": "5cfa7b6c-7849-4c44-bb4f-9a7f8a557de4",
   "metadata": {},
   "outputs": [
    {
     "name": "stdout",
     "output_type": "stream",
     "text": [
      "Rectangle Area: 20\n",
      "Rectangle Perimeter: 18\n",
      "Triangle Area: 6.0\n",
      "Triangle Perimeter: 12\n"
     ]
    }
   ],
   "source": [
    "class Shape:\n",
    "    def __init__(self, length, width, height):\n",
    "        self.length = length\n",
    "        self.width = width\n",
    "        self.height = height\n",
    "    \n",
    "    def calculate_area(self):\n",
    "        raise NotImplementedError(\"Subclasses must implement calculate_area()\")\n",
    "    \n",
    "    def calculate_perimeter(self):\n",
    "        raise NotImplementedError(\"Subclasses must implement calculate_perimeter()\")\n",
    "\n",
    "class Rectangle(Shape):\n",
    "    def calculate_area(self):\n",
    "        return self.length * self.width\n",
    "    \n",
    "    def calculate_perimeter(self):\n",
    "        return 2*(self.length+self.width)\n",
    "\n",
    "class Triangle(Shape):\n",
    "    def calculate_area(self):\n",
    "        # Using Heron's formula to calculate area of a triangle\n",
    "        s = (self.length + self.width + self.height) / 2\n",
    "        return (s * (s - self.length) * (s - self.width) * (s - self.height)) ** 0.5\n",
    "    \n",
    "    def calculate_perimeter(self):\n",
    "        return self.length+self.width+self.height\n",
    "\n",
    "# Example usage\n",
    "rectangle = Rectangle(5, 4, None)\n",
    "print(\"Rectangle Area:\", rectangle.calculate_area())\n",
    "print(\"Rectangle Perimeter:\", rectangle.calculate_perimeter())\n",
    "\n",
    "triangle = Triangle(3, 4, 5)\n",
    "print(\"Triangle Area:\", triangle.calculate_area())\n",
    "print(\"Triangle Perimeter:\", triangle.calculate_perimeter())\n"
   ]
  },
  {
   "cell_type": "code",
   "execution_count": 1,
   "id": "50780c5a-3a5d-47bc-a809-94630ca75bff",
   "metadata": {},
   "outputs": [
    {
     "data": {
      "text/plain": [
       "'Problem 7: Student Management Create a class representing a student with attributes like student ID, name, and grades. \\nImplement methods to calculate the average grade and display student details. '"
      ]
     },
     "execution_count": 1,
     "metadata": {},
     "output_type": "execute_result"
    }
   ],
   "source": [
    "\"\"\"Problem 7: Student Management Create a class representing a student with attributes like student ID, name, and grades. \n",
    "Implement methods to calculate the average grade and display student details. \"\"\""
   ]
  },
  {
   "cell_type": "code",
   "execution_count": 6,
   "id": "c25ba7fb-0066-4adb-bb72-775910ce60a1",
   "metadata": {},
   "outputs": [
    {
     "name": "stdout",
     "output_type": "stream",
     "text": [
      "Student Id 101\n",
      "Student Name shashi\n",
      "grades [80, 55, 56, 59, 99]\n",
      "Average_Grade 69.8\n",
      "\n",
      "Student Id 102\n",
      "Student Name sani\n",
      "grades [34, 56, 89, 45, 87]\n",
      "Average_Grades 62.2\n"
     ]
    }
   ],
   "source": [
    "class student:\n",
    "    def __init__(self,student_id,name,grades):\n",
    "        self.student_id=student_id\n",
    "        self.name=name\n",
    "        self.grades=grades\n",
    "    def student_details(self):\n",
    "        print(\"Student Id\",self.student_id)\n",
    "        print(\"Student Name\", self.name)\n",
    "        print(\"grades\",self.grades)\n",
    "\n",
    "class average(student):\n",
    "    def __init__(self,student_id,name,grade):\n",
    "        super().__init__(student_id,name,grade)\n",
    "    def calculate_average_grade(self):\n",
    "        if not self.grades:\n",
    "            return 0\n",
    "        return sum(self.grades)/len(self.grades)\n",
    "\n",
    "student1=average(\"101\",\"shashi\",[80,55,56,59,99])\n",
    "student2=average(\"102\",\"sani\",  [34,56,89,45,87])\n",
    "\n",
    "student1.student_details()\n",
    "print(\"Average_Grade\",student1.calculate_average_grade())\n",
    "print()\n",
    "student2.student_details()\n",
    "print(\"Average_Grades\",student2.calculate_average_grade())"
   ]
  },
  {
   "cell_type": "code",
   "execution_count": 7,
   "id": "24df48c3-a97a-4145-a99e-619ba58d4435",
   "metadata": {},
   "outputs": [
    {
     "data": {
      "text/plain": [
       "'Problem 8: Email Management Create a class representing an email with attributes like sender, recipient, and subject. \\nImplement methods to send an email and display email details.'"
      ]
     },
     "execution_count": 7,
     "metadata": {},
     "output_type": "execute_result"
    }
   ],
   "source": [
    "\"\"\"Problem 8: Email Management Create a class representing an email with attributes like sender, recipient, and subject. \n",
    "Implement methods to send an email and display email details.\"\"\""
   ]
  },
  {
   "cell_type": "code",
   "execution_count": 9,
   "id": "335df7f1-2608-4124-8afe-526c2987842f",
   "metadata": {},
   "outputs": [
    {
     "name": "stdout",
     "output_type": "stream",
     "text": [
      "Sender sk3595985@gmail.com\n",
      "recipient shashi333@gmail.com\n",
      "subject hello\n",
      "body:\n",
      "this is a sample of class Email\n"
     ]
    }
   ],
   "source": [
    "class Email:\n",
    "    def __init__(self,sender,recipient,subject,body):\n",
    "        self.sender=sender\n",
    "        self.recipient=recipient\n",
    "        self.subject=subject\n",
    "        self.body=body\n",
    "    def send_email(self):\n",
    "        print(\"Email Sent From\",self.sender)\n",
    "        print(\"Email Sent To\", self.recipient)\n",
    "        print(\"Subject\", self.subject)\n",
    "        print(\"Body\")\n",
    "        print(self.body)\n",
    "    def display_email(self):\n",
    "        print(\"Sender\",self.sender)\n",
    "        print(\"recipient\",self.recipient)\n",
    "        print(\"subject\",self.subject)\n",
    "        print(\"body:\")\n",
    "        print(self.body)\n",
    "\n",
    "email=Email(\"sk3595985@gmail.com\",\"shashi333@gmail.com\",\"hello\",\"this is a sample of class Email\")\n",
    "email.display_email()"
   ]
  },
  {
   "cell_type": "code",
   "execution_count": 10,
   "id": "ce8d8eb3-7da7-412d-82ef-acd0494cde10",
   "metadata": {},
   "outputs": [
    {
     "data": {
      "text/plain": [
       "'Problem 9: Social Media Profile Create a class representing a social media profile with attributes like username and posts.\\nImplement methods to add posts, display posts, and search for posts by keyword.'"
      ]
     },
     "execution_count": 10,
     "metadata": {},
     "output_type": "execute_result"
    }
   ],
   "source": [
    "\"\"\"Problem 9: Social Media Profile Create a class representing a social media profile with attributes like username and posts.\n",
    "Implement methods to add posts, display posts, and search for posts by keyword.\"\"\""
   ]
  },
  {
   "cell_type": "code",
   "execution_count": 16,
   "id": "916a5f97-d3c1-4a0b-9e97-e770ef2d0364",
   "metadata": {},
   "outputs": [
    {
     "name": "stdout",
     "output_type": "stream",
     "text": [
      "user_name shashi\n",
      "post 1 : कर्मण्येवाधिकारस्ते मा फलेषु कदाचन। मा कर्मफलहेतुर्भूर्मा ते सङ्गोऽस्त्वकर्मणि॥\n",
      "post 2 : यदा यदा हि धर्मस्य ग्लानिर्भवति भारत। अभ्युत्थानमधर्मस्य तदात्मानं सृजाम्यहम्॥\n",
      "post 3 : सर्वधर्मान्परित्यज्य मामेकं शरणं व्रज। अहं त्वा सर्वपापेभ्यो मोक्षयिष्यामि मा शुचः॥\n",
      "matching post for keyword कर्मण्येवाधिकारस्ते by user shashi:\n",
      "matching_post 1 : कर्मण्येवाधिकारस्ते मा फलेषु कदाचन। मा कर्मफलहेतुर्भूर्मा ते सङ्गोऽस्त्वकर्मणि॥\n"
     ]
    }
   ],
   "source": [
    "class social_media_profile:\n",
    "    def __init__(self,username):\n",
    "        self.username=username\n",
    "        self.posts=[]\n",
    "\n",
    "    def add_post(self,post_content):\n",
    "        self.posts.append(post_content)\n",
    "    def display_post(self):\n",
    "        print(\"user_name\", self.username)\n",
    "        for i, post in enumerate(self.posts,start=1):\n",
    "            print(f\"post {i} : {post}\")\n",
    "    def search_post(self,keyword):\n",
    "        matching_post=[post for post in self.posts if keyword.lower() in post.lower()]\n",
    "        if matching_post:\n",
    "            print(\"matching post for keyword {} by user {}:\" .format(keyword,self.username))\n",
    "            for i,post in enumerate(matching_post,start=1):\n",
    "                print(f\"matching_post {i} : {post}\")\n",
    "        else:\n",
    "            print(\"no matching post found for keyword {} by user {}\".format(keyword,self.username))\n",
    "\n",
    "profile=social_media_profile(\"shashi\")\n",
    "profile.add_post(\"कर्मण्येवाधिकारस्ते मा फलेषु कदाचन। मा कर्मफलहेतुर्भूर्मा ते सङ्गोऽस्त्वकर्मणि॥\")\n",
    "profile.add_post(\"यदा यदा हि धर्मस्य ग्लानिर्भवति भारत। अभ्युत्थानमधर्मस्य तदात्मानं सृजाम्यहम्॥\")\n",
    "profile.add_post(\"सर्वधर्मान्परित्यज्य मामेकं शरणं व्रज। अहं त्वा सर्वपापेभ्यो मोक्षयिष्यामि मा शुचः॥\")\n",
    "\n",
    "profile.display_post()\n",
    "\n",
    "profile.search_post(\"कर्मण्येवाधिकारस्ते\")"
   ]
  },
  {
   "cell_type": "code",
   "execution_count": 17,
   "id": "95be3d5e-6d54-4464-ab42-d95cac07f11c",
   "metadata": {},
   "outputs": [
    {
     "data": {
      "text/plain": [
       "'Problem 10: ToDo List Create a class representing a ToDo list with attributes like tasks and due dates. \\nImplement methods to add tasks, mark tasks as completed, and display pending tasks.'"
      ]
     },
     "execution_count": 17,
     "metadata": {},
     "output_type": "execute_result"
    }
   ],
   "source": [
    "\"\"\"Problem 10: ToDo List Create a class representing a ToDo list with attributes like tasks and due dates. \n",
    "Implement methods to add tasks, mark tasks as completed, and display pending tasks.\"\"\""
   ]
  },
  {
   "cell_type": "code",
   "execution_count": 18,
   "id": "90e96b91-ae82-45dd-97e4-62214f80c3d6",
   "metadata": {},
   "outputs": [
    {
     "name": "stdout",
     "output_type": "stream",
     "text": [
      "pending_task\n",
      "-maths study (Due: 2024-03-20)\n",
      "-physics study (Due: 2024-03-22)\n",
      "-computer study (Due: 2024-03-25)\n",
      "\n",
      "Task, maths study marked as completed\n",
      "pending_task\n",
      "-physics study (Due: 2024-03-22)\n",
      "-computer study (Due: 2024-03-25)\n"
     ]
    }
   ],
   "source": [
    "class ToDoList:\n",
    "    def __init__(self):\n",
    "        self.tasks = {}\n",
    "    def add_task(self, task_name,due_date):\n",
    "        self.tasks[task_name]=due_date\n",
    "    def mark_task_completed(self, task_name):\n",
    "        if task_name in self.tasks:\n",
    "            del self.tasks[task_name]\n",
    "            print(f\"Task, {task_name} marked as completed\")\n",
    "        else:\n",
    "            print(f\"Task {task_name} not found in the ToDo list\")\n",
    "    def display_pending_tasks(self):\n",
    "        if self.tasks:\n",
    "            print(\"pending_task\")\n",
    "            for task, due_date in self.tasks.items():\n",
    "                print(f\"-{task} (Due: {due_date})\")\n",
    "        else:\n",
    "            print(\"No pending tasks in the ToDo list\")\n",
    "\n",
    "todo_list = ToDoList()\n",
    "\n",
    "todo_list.add_task(\"maths study\", \"2024-03-20\")\n",
    "todo_list.add_task(\"physics study\", \"2024-03-22\")\n",
    "todo_list.add_task(\"computer study\", \"2024-03-25\")\n",
    "\n",
    "todo_list.display_pending_tasks()\n",
    "print()\n",
    "\n",
    "todo_list.mark_task_completed(\"maths study\")\n",
    "todo_list.display_pending_tasks()"
   ]
  },
  {
   "cell_type": "code",
   "execution_count": null,
   "id": "0da81a41-42fe-4e0a-80bd-d53873d550ff",
   "metadata": {},
   "outputs": [],
   "source": []
  }
 ],
 "metadata": {
  "kernelspec": {
   "display_name": "Python 3 (ipykernel)",
   "language": "python",
   "name": "python3"
  },
  "language_info": {
   "codemirror_mode": {
    "name": "ipython",
    "version": 3
   },
   "file_extension": ".py",
   "mimetype": "text/x-python",
   "name": "python",
   "nbconvert_exporter": "python",
   "pygments_lexer": "ipython3",
   "version": "3.11.7"
  }
 },
 "nbformat": 4,
 "nbformat_minor": 5
}
